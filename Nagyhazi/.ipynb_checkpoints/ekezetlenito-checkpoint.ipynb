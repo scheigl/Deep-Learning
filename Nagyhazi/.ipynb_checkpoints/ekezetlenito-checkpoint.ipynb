{
 "cells": [
  {
   "cell_type": "code",
   "execution_count": 39,
   "metadata": {},
   "outputs": [],
   "source": [
    "import re\n",
    "import pandas as pd\n",
    "import numpy as np\n",
    "from os import listdir\n",
    "from os.path import isfile, join\n",
    "from random import shuffle"
   ]
  },
  {
   "cell_type": "code",
   "execution_count": 31,
   "metadata": {},
   "outputs": [],
   "source": [
    "def load_book(path):\n",
    "    # Load a book from its file\n",
    "    book_file = open(path)\n",
    "    # Read the book from the loaded file\n",
    "    book = book_file.read()\n",
    "    # Return the book string\n",
    "    return book"
   ]
  },
  {
   "cell_type": "code",
   "execution_count": 32,
   "metadata": {},
   "outputs": [
    {
     "name": "stdout",
     "output_type": "stream",
     "text": [
      "['1848.txt', 'abel.txt', 'almok.txt', 'edes.txt', 'test.txt']\n"
     ]
    }
   ],
   "source": [
    "# Collect all of the book file names\n",
    "path = 'resources/'\n",
    "book_files = [f for f in listdir(path) if isfile(join(path, f))]\n",
    "print(book_files)"
   ]
  },
  {
   "cell_type": "code",
   "execution_count": 33,
   "metadata": {},
   "outputs": [],
   "source": [
    "books = []\n",
    "for book in book_files:\n",
    "    books.append(load_book(join(path, book)))"
   ]
  },
  {
   "cell_type": "code",
   "execution_count": 34,
   "metadata": {},
   "outputs": [
    {
     "name": "stdout",
     "output_type": "stream",
     "text": [
      "There are 10650 words in 1848.txt.\n",
      "There are 51593 words in abel.txt.\n",
      "There are 38199 words in almok.txt.\n",
      "There are 51118 words in edes.txt.\n",
      "There are 120322 words in test.txt.\n"
     ]
    }
   ],
   "source": [
    "# Count the number of words in each book\n",
    "for i in range(len(books)):\n",
    "    print(\"There are {} words in {}.\".format(len(books[i].split()), book_files[i]))"
   ]
  },
  {
   "cell_type": "code",
   "execution_count": 35,
   "metadata": {},
   "outputs": [],
   "source": [
    "def clean_text(text):\n",
    "    '''Remove unwanted characters and extra spaces from the text'''\n",
    "    text = re.sub(r'\\n', ' ', text) \n",
    "    text = re.sub(r'[{}@_*>()\\\\#%+=\\[\\]]','', text)\n",
    "    text = re.sub('a0','', text)\n",
    "    text = re.sub('\\'92t','\\'t', text)\n",
    "    text = re.sub('\\'92s','\\'s', text)\n",
    "    text = re.sub('\\'92m','\\'m', text)\n",
    "    text = re.sub('\\'92ll','\\'ll', text)\n",
    "    text = re.sub('\\'91','', text)\n",
    "    text = re.sub('\\'92','', text)\n",
    "    text = re.sub('\\'93','', text)\n",
    "    text = re.sub('\\'94','', text)\n",
    "    text = re.sub('\\.','. ', text)\n",
    "    text = re.sub('\\!','! ', text)\n",
    "    text = re.sub('\\?','? ', text)\n",
    "    text = re.sub(' +',' ', text) # Removes extra spaces\n",
    "    text = re.sub('- ','', text)\n",
    "    text = re.sub('\\xa0','', text)\n",
    "    return text"
   ]
  },
  {
   "cell_type": "code",
   "execution_count": 36,
   "metadata": {},
   "outputs": [],
   "source": [
    "# Clean the text of the books\n",
    "clean_books = []\n",
    "for book in books:\n",
    "    clean_books.append(clean_text(book))"
   ]
  },
  {
   "cell_type": "code",
   "execution_count": 37,
   "metadata": {},
   "outputs": [],
   "source": [
    "sentences = []\n",
    "for book in clean_books:\n",
    "    for sentence in book.split('. '):\n",
    "        sentences.append(sentence + '.')"
   ]
  },
  {
   "cell_type": "code",
   "execution_count": 38,
   "metadata": {},
   "outputs": [
    {
     "name": "stdout",
     "output_type": "stream",
     "text": [
      "20696\n",
      "12325\n"
     ]
    }
   ],
   "source": [
    "max_length = 92\n",
    "min_length = 10\n",
    "print(len(sentences))\n",
    "good_sentences = []\n",
    "for sentence in sentences:\n",
    "    if len(sentence) <= max_length and len(sentence) >= min_length:\n",
    "        good_sentences.append(sentence)\n",
    "print(len(good_sentences))"
   ]
  },
  {
   "cell_type": "code",
   "execution_count": 46,
   "metadata": {},
   "outputs": [
    {
     "name": "stdout",
     "output_type": "stream",
     "text": [
      "Itt van az egyházközségi támogatás erre a hónapra.\n",
      "De mozogj már, különben beléd rúgok.\n"
     ]
    }
   ],
   "source": [
    "print(good_sentences[0])\n",
    "shuffle(good_sentences)\n",
    "print(good_sentences[0])"
   ]
  },
  {
   "cell_type": "code",
   "execution_count": 49,
   "metadata": {},
   "outputs": [
    {
     "name": "stdout",
     "output_type": "stream",
     "text": [
      "8627\n",
      "2465\n",
      "1233\n"
     ]
    }
   ],
   "source": [
    "train_percent = 0.7\n",
    "test_percent = 0.1\n",
    "nb_samples = len(good_sentences)\n",
    "\n",
    "# train-validation-test minták különválasztása\n",
    "train_set = good_sentences[0:int(nb_samples*train_percent)]\n",
    "valid_set = good_sentences[int(nb_samples*train_percent):int(nb_samples*(1-test_percent))]\n",
    "test_set  = good_sentences[int(nb_samples*(1-test_percent)):]\n",
    "\n",
    "print(len(train_set))\n",
    "print(len(valid_set))\n",
    "print(len(test_set))"
   ]
  },
  {
   "cell_type": "code",
   "execution_count": null,
   "metadata": {},
   "outputs": [],
   "source": []
  }
 ],
 "metadata": {
  "kernelspec": {
   "display_name": "Python 3",
   "language": "python",
   "name": "python3"
  },
  "language_info": {
   "codemirror_mode": {
    "name": "ipython",
    "version": 3
   },
   "file_extension": ".py",
   "mimetype": "text/x-python",
   "name": "python",
   "nbconvert_exporter": "python",
   "pygments_lexer": "ipython3",
   "version": "3.7.4"
  }
 },
 "nbformat": 4,
 "nbformat_minor": 2
}
